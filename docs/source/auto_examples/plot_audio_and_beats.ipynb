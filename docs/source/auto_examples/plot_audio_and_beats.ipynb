{
  "cells": [
    {
      "cell_type": "code",
      "execution_count": null,
      "metadata": {
        "collapsed": false
      },
      "outputs": [],
      "source": [
        "%matplotlib inline"
      ]
    },
    {
      "cell_type": "markdown",
      "metadata": {},
      "source": [
        "\n",
        "# Plot audio and beats\n",
        "\n",
        "\n",
        "This example shows how to load/plot an audio file and the corresponding beat annotations file.\n",
        "\n"
      ]
    },
    {
      "cell_type": "code",
      "execution_count": null,
      "metadata": {
        "collapsed": false
      },
      "outputs": [],
      "source": [
        "# Code source: Martín Rocamora\n",
        "# License: MIT"
      ]
    },
    {
      "cell_type": "markdown",
      "metadata": {},
      "source": [
        "Imports\n",
        "  - matplotlib for visualization\n",
        "\n",
        "\n"
      ]
    },
    {
      "cell_type": "code",
      "execution_count": null,
      "metadata": {
        "collapsed": false
      },
      "outputs": [],
      "source": [
        "import matplotlib.pyplot as plt\n",
        "import carat"
      ]
    },
    {
      "cell_type": "markdown",
      "metadata": {},
      "source": [
        "First, we'll load one of the audio files included in `carat`.\n",
        "We get the path to the audio file example number  1, and load 10 seconds of the file.\n",
        "\n",
        "**Note 1:** By default, `carat` will resample the signal to 22050Hz, but this can disabled\n",
        "by saying `sr=None` (`carat` uses librosa for loading audio files, so it inherits\n",
        "all its functionality and behaviour).\n",
        "\n"
      ]
    },
    {
      "cell_type": "code",
      "execution_count": null,
      "metadata": {
        "collapsed": false
      },
      "outputs": [],
      "source": [
        "audio_path = carat.util.example_audio_file(num_file=1)\n",
        "\n",
        "y, sr = carat.audio.load(audio_path, sr=None, duration=10.0)"
      ]
    },
    {
      "cell_type": "markdown",
      "metadata": {},
      "source": [
        "Next, we'll load the annotations provided for the example audio file.\n",
        "We get the path to the annotations file corresponding to example number 1,\n",
        "and then we load beats and downbeats, along with their labels.\n",
        "\n"
      ]
    },
    {
      "cell_type": "code",
      "execution_count": null,
      "metadata": {
        "collapsed": false
      },
      "outputs": [],
      "source": [
        "annotations_path = carat.util.example_beats_file(num_file=1)\n",
        "\n",
        "beats, beat_labs = carat.annotations.load_beats(annotations_path)\n",
        "downbeats, downbeat_labs = carat.annotations.load_downbeats(annotations_path)"
      ]
    },
    {
      "cell_type": "markdown",
      "metadata": {},
      "source": [
        "**Note 2:** It is assumed that the beat annotations are provided as a text file (csv).\n",
        "Apart from the time data (mandatory) a label can be given for each beat (optional).\n",
        "The time data is assumed to be given in seconds. The labels may indicate the beat number\n",
        "within the rhythm cycle (e.g. 1.1, 1.2, or 1, 2).\n",
        "\n",
        "**Note 3:** The same annotations file is used for both beats and downbeats.\n",
        "This is based on annotation labels that provide a particular string to identify the downbeats.\n",
        "In this case, this string is .1, and is the one used by default. You can specify the string to\n",
        "look for in the labels data to select downbeats by setting the `downbeat_label` parameter value.\n",
        "For instance, `downbeat_label='1'` is used for loading annotations of the samba files included.\n",
        "\n",
        "**Note 4:** By default the columns are assumed to be separated by a comma, but you can specify\n",
        "another separating string by setting the `delimiter` parameter value. For instance, a blank space\n",
        "`delimiter=' '` is used for loading annotations of the samba files included.\n",
        "\n",
        "Let's print the first 10 beat and the first 3 downbeats, with their corresponding labels.\n",
        "\n"
      ]
    },
    {
      "cell_type": "code",
      "execution_count": null,
      "metadata": {
        "collapsed": false
      },
      "outputs": [],
      "source": [
        "print(beats[:10])\n",
        "print(beat_labs[:10])\n",
        "\n",
        "print(downbeats[:3])\n",
        "print(downbeat_labs[:3])"
      ]
    },
    {
      "cell_type": "markdown",
      "metadata": {},
      "source": [
        "Finally we plot the audio waveform and the beat annotations\n",
        "\n"
      ]
    },
    {
      "cell_type": "code",
      "execution_count": null,
      "metadata": {
        "collapsed": false
      },
      "outputs": [],
      "source": [
        "plt.figure(figsize=(12, 6))\n",
        "ax1 = plt.subplot(2, 1, 1)\n",
        "carat.display.wave_plot(y, sr, ax=ax1)\n",
        "ax2 = plt.subplot(2, 1, 2, sharex=ax1)\n",
        "carat.display.wave_plot(y, sr, ax=ax2, beats=downbeats, beat_labs=downbeat_labs)\n",
        "plt.tight_layout()\n",
        "\n",
        "plt.show()"
      ]
    }
  ],
  "metadata": {
    "kernelspec": {
      "display_name": "Python 3",
      "language": "python",
      "name": "python3"
    },
    "language_info": {
      "codemirror_mode": {
        "name": "ipython",
        "version": 3
      },
      "file_extension": ".py",
      "mimetype": "text/x-python",
      "name": "python",
      "nbconvert_exporter": "python",
      "pygments_lexer": "ipython3",
      "version": "3.8.5"
    }
  },
  "nbformat": 4,
  "nbformat_minor": 0
}