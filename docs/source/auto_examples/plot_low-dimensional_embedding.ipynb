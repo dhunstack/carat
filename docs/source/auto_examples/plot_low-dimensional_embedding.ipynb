{
  "cells": [
    {
      "cell_type": "code",
      "execution_count": null,
      "metadata": {
        "collapsed": false
      },
      "outputs": [],
      "source": [
        "%matplotlib inline"
      ]
    },
    {
      "cell_type": "markdown",
      "metadata": {},
      "source": [
        "\n",
        "# Plot low-dimensional embedding\n",
        "\n",
        "\n",
        "This example shows how to plot a low-dimensional embedding of the rhythmic patterns.\n",
        "\n",
        "This is based on the rhythmic patterns analysis proposed in [CIM2014]_.\n",
        "\n"
      ]
    },
    {
      "cell_type": "code",
      "execution_count": null,
      "metadata": {
        "collapsed": false
      },
      "outputs": [],
      "source": [
        "# Code source: Martín Rocamora\n",
        "# License: MIT"
      ]
    },
    {
      "cell_type": "markdown",
      "metadata": {},
      "source": [
        "Imports\n",
        "  - matplotlib for visualization\n",
        "  - Axes3D from mpl_toolkits.mplot3d for 3D plots\n",
        "\n",
        "\n"
      ]
    },
    {
      "cell_type": "code",
      "execution_count": null,
      "metadata": {
        "collapsed": false
      },
      "outputs": [],
      "source": [
        "import matplotlib.pyplot as plt\n",
        "from mpl_toolkits.mplot3d import Axes3D\n",
        "import carat"
      ]
    },
    {
      "cell_type": "markdown",
      "metadata": {},
      "source": [
        "We compute the feature map of rhythmic patterns and we\n",
        "learn a manifold in a low--dimensional space.\n",
        "The patterns are they shown in the low--dimensional space\n",
        "before and after being grouped into clusters.\n",
        "\n",
        "First, we'll load one of the audio files included in `carat`.\n",
        "\n"
      ]
    },
    {
      "cell_type": "code",
      "execution_count": null,
      "metadata": {
        "collapsed": false
      },
      "outputs": [],
      "source": [
        "audio_path = carat.util.example_audio_file(num_file=1)\n",
        "\n",
        "y, sr = carat.audio.load(audio_path, sr=None)"
      ]
    },
    {
      "cell_type": "markdown",
      "metadata": {},
      "source": [
        "Next, we'll load the annotations provided for the example audio file.\n",
        "\n"
      ]
    },
    {
      "cell_type": "code",
      "execution_count": null,
      "metadata": {
        "collapsed": false
      },
      "outputs": [],
      "source": [
        "annotations_path = carat.util.example_beats_file(num_file=1)\n",
        "\n",
        "beats, beat_labs = carat.annotations.load_beats(annotations_path)\n",
        "downbeats, downbeat_labs = carat.annotations.load_downbeats(annotations_path)"
      ]
    },
    {
      "cell_type": "markdown",
      "metadata": {},
      "source": [
        "Then, we'll compute the accentuation feature.\n",
        "\n",
        "**Note:** This example is tailored towards the rhythmic patterns of the lowest\n",
        "sounding of the three drum types taking part in the recording, so the analysis\n",
        "focuses on the low frequencies (20 to 200 Hz).\n",
        "\n"
      ]
    },
    {
      "cell_type": "code",
      "execution_count": null,
      "metadata": {
        "collapsed": false
      },
      "outputs": [],
      "source": [
        "acce, times, _ = carat.features.accentuation_feature(y, sr, minfreq=20, maxfreq=200)"
      ]
    },
    {
      "cell_type": "markdown",
      "metadata": {},
      "source": [
        "Next, we'll compute the feature map.\n",
        "\n"
      ]
    },
    {
      "cell_type": "code",
      "execution_count": null,
      "metadata": {
        "collapsed": false
      },
      "outputs": [],
      "source": [
        "n_beats = int(round(beats.size/downbeats.size))\n",
        "n_tatums = 4\n",
        "\n",
        "map_acce, _, _, _ = carat.features.feature_map(acce, times, beats, downbeats, n_beats=n_beats,\n",
        "                                               n_tatums=n_tatums)"
      ]
    },
    {
      "cell_type": "markdown",
      "metadata": {},
      "source": [
        "Then, we'll group rhythmic patterns into clusters. This is done using the classical\n",
        "K-means method with Euclidean distance (but other clustering methods and distance\n",
        "measures can be used too).\n",
        "\n",
        "**Note:** The number of clusters n_clusters has to be specified as an input parameter.\n",
        "\n"
      ]
    },
    {
      "cell_type": "code",
      "execution_count": null,
      "metadata": {
        "collapsed": false
      },
      "outputs": [],
      "source": [
        "n_clusters = 4\n",
        "\n",
        "cluster_labs, centroids, _ = carat.clustering.rhythmic_patterns(map_acce, n_clusters=n_clusters)"
      ]
    },
    {
      "cell_type": "markdown",
      "metadata": {},
      "source": [
        "Next, we compute a low-dimensional embedding of the rhythmic pattern. This is mainly done for\n",
        "visualization purposes. This representation can be useful to select the number of clusters, or\n",
        "to spot outliers. There are several approaches for dimensionality reduction among which isometric\n",
        "mapping, Isomap, was selected (other embedding methods can be also applied).\n",
        "Isomap is preferred since it is capable of keeping the levels of similarity among the original\n",
        "patterns after being mapped to the lower dimensional space. Besides, it allows the projection of\n",
        "new patterns onto the low-dimensional space.\n",
        "\n",
        "**Note 1:** You have to provide the number of dimensions to map on.\n",
        "Although any number of dimensions can be used to compute the embedding, only 2- and 3-dimensions\n",
        "plots are available (for obvious reasons).\n",
        "\n",
        "**Note 2:** 3D plots need Axes3D from mpl_toolkits.mplot3d\n",
        "\n"
      ]
    },
    {
      "cell_type": "code",
      "execution_count": null,
      "metadata": {
        "collapsed": false
      },
      "outputs": [],
      "source": [
        "n_dims = 3\n",
        "map_emb = carat.clustering.manifold_learning(map_acce, method='isomap', n_components=n_dims)"
      ]
    },
    {
      "cell_type": "markdown",
      "metadata": {},
      "source": [
        "Finally we plot the low-dimensional embedding of the rhythmic patterns and the clusters obtained.\n",
        "\n"
      ]
    },
    {
      "cell_type": "code",
      "execution_count": null,
      "metadata": {
        "collapsed": false
      },
      "outputs": [],
      "source": [
        "fig1 = plt.figure(figsize=(10, 8))\n",
        "ax1 = fig1.add_subplot(111, projection='3d')\n",
        "carat.display.embedding_plot(map_emb, ax=ax1, clusters=cluster_labs, s=30)\n",
        "plt.tight_layout()\n",
        "\n",
        "fig2 = plt.figure(figsize=(10, 8))\n",
        "ax2 = fig2.add_subplot(111, projection='3d')\n",
        "carat.display.embedding_plot(map_emb, ax=ax2, s=30)\n",
        "plt.tight_layout()\n",
        "\n",
        "plt.show()"
      ]
    }
  ],
  "metadata": {
    "kernelspec": {
      "display_name": "Python 3",
      "language": "python",
      "name": "python3"
    },
    "language_info": {
      "codemirror_mode": {
        "name": "ipython",
        "version": 3
      },
      "file_extension": ".py",
      "mimetype": "text/x-python",
      "name": "python",
      "nbconvert_exporter": "python",
      "pygments_lexer": "ipython3",
      "version": "3.8.5"
    }
  },
  "nbformat": 4,
  "nbformat_minor": 0
}