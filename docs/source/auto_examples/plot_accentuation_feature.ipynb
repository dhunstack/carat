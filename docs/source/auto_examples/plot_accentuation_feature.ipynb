{
  "cells": [
    {
      "cell_type": "code",
      "execution_count": null,
      "metadata": {
        "collapsed": false
      },
      "outputs": [],
      "source": [
        "%matplotlib inline"
      ]
    },
    {
      "cell_type": "markdown",
      "metadata": {},
      "source": [
        "\n",
        "# Plot accentuation feature\n",
        "\n",
        "\n",
        "This example shows how to compute an accentuation feature from de audio waveform.\n",
        "\n"
      ]
    },
    {
      "cell_type": "code",
      "execution_count": null,
      "metadata": {
        "collapsed": false
      },
      "outputs": [],
      "source": [
        "# Code source: Martín Rocamora\n",
        "# License: MIT"
      ]
    },
    {
      "cell_type": "markdown",
      "metadata": {},
      "source": [
        "Imports\n",
        "  - matplotlib for visualization\n",
        "\n",
        "\n"
      ]
    },
    {
      "cell_type": "code",
      "execution_count": null,
      "metadata": {
        "collapsed": false
      },
      "outputs": [],
      "source": [
        "import matplotlib.pyplot as plt\n",
        "import carat"
      ]
    },
    {
      "cell_type": "markdown",
      "metadata": {},
      "source": [
        "The accentuation feature is based on the Spectral flux,\n",
        "that consists in seizing the changes in the spectral magnitude\n",
        "of the audio signal along different frequency bands.\n",
        "In principle, the feature value is high when a note has been\n",
        "articulated and close to zero otherwise.\n",
        "\n",
        "First, we'll load one of the audio files included in `carat`.\n",
        "We get the path to the audio file example number  1, and load 10 seconds of the file.\n",
        "\n"
      ]
    },
    {
      "cell_type": "code",
      "execution_count": null,
      "metadata": {
        "collapsed": false
      },
      "outputs": [],
      "source": [
        "audio_path = carat.util.example_audio_file(num_file=1)\n",
        "\n",
        "y, sr = carat.audio.load(audio_path, sr=None, duration=10.0)"
      ]
    },
    {
      "cell_type": "markdown",
      "metadata": {},
      "source": [
        "Next, we'll load the annotations provided for the example audio file.\n",
        "We get the path to the annotations file corresponding to example number 1,\n",
        "and then we load beats and downbeats, along with their labels.\n",
        "\n"
      ]
    },
    {
      "cell_type": "code",
      "execution_count": null,
      "metadata": {
        "collapsed": false
      },
      "outputs": [],
      "source": [
        "annotations_path = carat.util.example_beats_file(num_file=1)\n",
        "\n",
        "beats, beat_labs = carat.annotations.load_beats(annotations_path)\n",
        "downbeats, downbeat_labs = carat.annotations.load_downbeats(annotations_path)"
      ]
    },
    {
      "cell_type": "markdown",
      "metadata": {},
      "source": [
        "Then, we'll compute the accentuation feature.\n",
        "\n",
        "**Note:** This example is tailored towards the rhythmic patterns of the lowest\n",
        "sounding of the three drum types taking part in the recording, so the analysis\n",
        "focuses on the low frequencies (20 to 200 Hz).\n",
        "\n"
      ]
    },
    {
      "cell_type": "code",
      "execution_count": null,
      "metadata": {
        "collapsed": false
      },
      "outputs": [],
      "source": [
        "acce, times, _ = carat.features.accentuation_feature(y, sr, minfreq=20, maxfreq=200)"
      ]
    },
    {
      "cell_type": "markdown",
      "metadata": {},
      "source": [
        "Finally we plot the audio waveform, the beat annotations and the accentuation feature values.\n",
        "\n"
      ]
    },
    {
      "cell_type": "code",
      "execution_count": null,
      "metadata": {
        "collapsed": false
      },
      "outputs": [],
      "source": [
        "# plot waveform and accentuation feature\n",
        "plt.figure(figsize=(12, 6))\n",
        "# plot waveform\n",
        "ax1 = plt.subplot(2, 1, 1)\n",
        "carat.display.wave_plot(y, sr, ax=ax1, beats=beats, beat_labs=beat_labs)\n",
        "# plot accentuation feature\n",
        "ax2 = plt.subplot(2, 1, 2, sharex=ax1)\n",
        "carat.display.feature_plot(acce, times, ax=ax2, beats=beats, beat_labs=beat_labs)\n",
        "plt.tight_layout()\n",
        "\n",
        "plt.show()"
      ]
    }
  ],
  "metadata": {
    "kernelspec": {
      "display_name": "Python 3",
      "language": "python",
      "name": "python3"
    },
    "language_info": {
      "codemirror_mode": {
        "name": "ipython",
        "version": 3
      },
      "file_extension": ".py",
      "mimetype": "text/x-python",
      "name": "python",
      "nbconvert_exporter": "python",
      "pygments_lexer": "ipython3",
      "version": "3.8.5"
    }
  },
  "nbformat": 4,
  "nbformat_minor": 0
}