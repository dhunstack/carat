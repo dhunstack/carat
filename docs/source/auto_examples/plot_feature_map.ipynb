{
  "cells": [
    {
      "cell_type": "code",
      "execution_count": null,
      "metadata": {
        "collapsed": false
      },
      "outputs": [],
      "source": [
        "%matplotlib inline"
      ]
    },
    {
      "cell_type": "markdown",
      "metadata": {},
      "source": [
        "\n",
        "# Plot feature map\n",
        "\n",
        "\n",
        "This example shows how to compute a feature map from de audio waveform.\n",
        "\n",
        "This type of feature map for rhythmic patterns analysis was first proposed in [CIM2014]_.\n",
        "\n",
        " .. [CIM2014] *Tools for detection and classification of piano drum patterns from candombe\n",
        "              recordings.* Rocamora, Jure, Biscainho. 9th Conference on Interdisciplinary\n",
        "              Musicology (CIM), Berlin, Germany. 2014.\n",
        "\n"
      ]
    },
    {
      "cell_type": "code",
      "execution_count": null,
      "metadata": {
        "collapsed": false
      },
      "outputs": [],
      "source": [
        "# Code source: Martín Rocamora\n",
        "# License: MIT"
      ]
    },
    {
      "cell_type": "markdown",
      "metadata": {},
      "source": [
        "Imports\n",
        "  - matplotlib for visualization\n",
        "\n",
        "\n"
      ]
    },
    {
      "cell_type": "code",
      "execution_count": null,
      "metadata": {
        "collapsed": false
      },
      "outputs": [],
      "source": [
        "import matplotlib.pyplot as plt\n",
        "import carat"
      ]
    },
    {
      "cell_type": "markdown",
      "metadata": {},
      "source": [
        "The accentuation feature is organized into a feature map.\n",
        "First, the feature signal is time-quantized to the rhythm metric\n",
        "structure by considering a grid of tatum pulses equally distributed\n",
        "within the annotated beats. The corresponding feature value is taken\n",
        "as the maximum within window centered at the frame closest to each\n",
        "tatum instant. This yields feature vectors whose coordinates correspond\n",
        "to the tatum pulses of the rhythm cycle (or bar). Finally, a feature map\n",
        "of the cycle-length rhythmic patterns of the audio file is obtained by\n",
        "building a matrix whose columns are consecutive feature vectors.\n",
        "\n",
        "First, we'll load one of the audio files included in `carat`.\n",
        "\n"
      ]
    },
    {
      "cell_type": "code",
      "execution_count": null,
      "metadata": {
        "collapsed": false
      },
      "outputs": [],
      "source": [
        "audio_path = carat.util.example_audio_file(num_file=1)\n",
        "\n",
        "y, sr = carat.audio.load(audio_path, sr=None)"
      ]
    },
    {
      "cell_type": "markdown",
      "metadata": {},
      "source": [
        "Next, we'll load the annotations provided for the example audio file.\n",
        "\n"
      ]
    },
    {
      "cell_type": "code",
      "execution_count": null,
      "metadata": {
        "collapsed": false
      },
      "outputs": [],
      "source": [
        "annotations_path = carat.util.example_beats_file(num_file=1)\n",
        "\n",
        "beats, beat_labs = carat.annotations.load_beats(annotations_path)\n",
        "downbeats, downbeat_labs = carat.annotations.load_downbeats(annotations_path)"
      ]
    },
    {
      "cell_type": "markdown",
      "metadata": {},
      "source": [
        "Then, we'll compute the accentuation feature.\n",
        "\n",
        "**Note:** This example is tailored towards the rhythmic patterns of the lowest\n",
        "sounding of the three drum types taking part in the recording, so the analysis\n",
        "focuses on the low frequencies (20 to 200 Hz).\n",
        "\n"
      ]
    },
    {
      "cell_type": "code",
      "execution_count": null,
      "metadata": {
        "collapsed": false
      },
      "outputs": [],
      "source": [
        "acce, times, _ = carat.features.accentuation_feature(y, sr, minfreq=20, maxfreq=200)\n",
        "\n",
        "del y"
      ]
    },
    {
      "cell_type": "markdown",
      "metadata": {},
      "source": [
        "Next, we'll compute the feature map. Note that we have to provide the beats,\n",
        "the downbeats, which were loaded from the annotations. Besides, the number of\n",
        "beats per bar and the number of of tatums (subdivisions) per beat has to be provided.\n",
        "\n"
      ]
    },
    {
      "cell_type": "code",
      "execution_count": null,
      "metadata": {
        "collapsed": false
      },
      "outputs": [],
      "source": [
        "n_beats = int(round(beats.size/downbeats.size))\n",
        "n_tatums = 4\n",
        "\n",
        "map_acce, _, _, _ = carat.features.feature_map(acce, times, beats, downbeats, n_beats=n_beats,\n",
        "                                               n_tatums=n_tatums)\n",
        "\n",
        "del acce\n",
        "del times\n",
        "del beats\n",
        "del downbeats"
      ]
    },
    {
      "cell_type": "markdown",
      "metadata": {},
      "source": [
        "Finally we plot the feature map for the low frequencies of the audio file.\n",
        "\n",
        "**Note:** This feature map representation enables the inspection of the patterns evolution\n",
        "over time, as well as their similarities and differences, in a very informative way. Note that\n",
        "if a certain tatum pulse is articulated for several consecutive bars, it will be shown as a dark\n",
        "horizontal line in the map. Conversely, changes in repetitive patterns are readily distinguishable\n",
        "as variations in the distribution of feature values.\n",
        "\n"
      ]
    },
    {
      "cell_type": "code",
      "execution_count": null,
      "metadata": {
        "collapsed": false
      },
      "outputs": [],
      "source": [
        "plt.figure(figsize=(12, 6))\n",
        "ax1 = plt.subplot(211)\n",
        "carat.display.map_show(map_acce, ax=ax1, n_tatums=n_tatums)\n",
        "plt.tight_layout()\n",
        "\n",
        "plt.show()"
      ]
    }
  ],
  "metadata": {
    "kernelspec": {
      "display_name": "Python 3",
      "language": "python",
      "name": "python3"
    },
    "language_info": {
      "codemirror_mode": {
        "name": "ipython",
        "version": 3
      },
      "file_extension": ".py",
      "mimetype": "text/x-python",
      "name": "python",
      "nbconvert_exporter": "python",
      "pygments_lexer": "ipython3",
      "version": "3.8.5"
    }
  },
  "nbformat": 4,
  "nbformat_minor": 0
}