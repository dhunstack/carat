{
  "metadata": {
    "kernelspec": {
      "name": "python3",
      "display_name": "Python 3",
      "language": "python"
    },
    "language_info": {
      "codemirror_mode": {
        "name": "ipython",
        "version": 3
      },
      "name": "python",
      "nbconvert_exporter": "python",
      "version": "3.5.2",
      "file_extension": ".py",
      "pygments_lexer": "ipython3",
      "mimetype": "text/x-python"
    }
  },
  "nbformat": 4,
  "nbformat_minor": 0,
  "cells": [
    {
      "source": [
        "%matplotlib inline"
      ],
      "metadata": {
        "collapsed": false
      },
      "execution_count": null,
      "outputs": [],
      "cell_type": "code"
    },
    {
      "source": [
        "\n# Plot low-dimensional embedding\n\n\nThis example shows how to plot a low-dimensional embedding of the rhythmic patterns.\n\nThis is based on the rhythmic patterns analysis proposed in [CIM2014]_.\n\n"
      ],
      "metadata": {},
      "cell_type": "markdown"
    },
    {
      "source": [
        "# Code source: Mart\u00edn Rocamora\n# License: MIT"
      ],
      "metadata": {
        "collapsed": false
      },
      "execution_count": null,
      "outputs": [],
      "cell_type": "code"
    },
    {
      "source": [
        "Imports\n  - matplotlib for visualization\n  - Axes3D from mpl_toolkits.mplot3d for 3D plots\n\n\n"
      ],
      "metadata": {},
      "cell_type": "markdown"
    },
    {
      "source": [
        "from __future__ import print_function\nimport matplotlib.pyplot as plt\nfrom mpl_toolkits.mplot3d import Axes3D\nimport carat"
      ],
      "metadata": {
        "collapsed": false
      },
      "execution_count": null,
      "outputs": [],
      "cell_type": "code"
    },
    {
      "source": [
        "We compute the feature map of rhythmic patterns and we\nlearn a manifold in a low--dimensional space.\nThe patterns are they shown in the low--dimensional space\nbefore and after being grouped into clusters.\n\nFirst, we'll load one of the audio files included in `carat`.\n\n"
      ],
      "metadata": {},
      "cell_type": "markdown"
    },
    {
      "source": [
        "audio_path = carat.util.example_audio_file(num_file=1)\n\ny, sr = carat.audio.load(audio_path, sr=None)"
      ],
      "metadata": {
        "collapsed": false
      },
      "execution_count": null,
      "outputs": [],
      "cell_type": "code"
    },
    {
      "source": [
        "Next, we'll load the annotations provided for the example audio file.\n\n"
      ],
      "metadata": {},
      "cell_type": "markdown"
    },
    {
      "source": [
        "annotations_path = carat.util.example_beats_file(num_file=1)\n\nbeats, beat_labs = carat.annotations.load_beats(annotations_path)\ndownbeats, downbeat_labs = carat.annotations.load_downbeats(annotations_path)"
      ],
      "metadata": {
        "collapsed": false
      },
      "execution_count": null,
      "outputs": [],
      "cell_type": "code"
    },
    {
      "source": [
        "Then, we'll compute the accentuation feature.\n\n**Note:** This example is tailored towards the rhythmic patterns of the lowest\nsounding of the three drum types taking part in the recording, so the analysis\nfocuses on the low frequencies (20 to 200 Hz).\n\n"
      ],
      "metadata": {},
      "cell_type": "markdown"
    },
    {
      "source": [
        "acce, times, _ = carat.features.accentuation_feature(y, sr, minfreq=20, maxfreq=200)"
      ],
      "metadata": {
        "collapsed": false
      },
      "execution_count": null,
      "outputs": [],
      "cell_type": "code"
    },
    {
      "source": [
        "Next, we'll compute the feature map.\n\n"
      ],
      "metadata": {},
      "cell_type": "markdown"
    },
    {
      "source": [
        "n_beats = int(round(beats.size/downbeats.size))\nn_tatums = 4\n\nmap_acce, _, _, _ = carat.features.feature_map(acce, times, beats, downbeats, n_beats=n_beats,\n                                               n_tatums=n_tatums)"
      ],
      "metadata": {
        "collapsed": false
      },
      "execution_count": null,
      "outputs": [],
      "cell_type": "code"
    },
    {
      "source": [
        "Then, we'll group rhythmic patterns into clusters. This is done using the classical\nK-means method with Euclidean distance (but other clustering methods and distance\nmeasures can be used too).\n\n**Note:** The number of clusters n_clusters has to be specified as an input parameter.\n\n"
      ],
      "metadata": {},
      "cell_type": "markdown"
    },
    {
      "source": [
        "n_clusters = 4\n\ncluster_labs, centroids, _ = carat.clustering.rhythmic_patterns(map_acce, n_clusters=n_clusters)"
      ],
      "metadata": {
        "collapsed": false
      },
      "execution_count": null,
      "outputs": [],
      "cell_type": "code"
    },
    {
      "source": [
        "Next, we compute a low-dimensional embedding of the rhythmic pattern. This is mainly done for\nvisualization purposes. This representation can be useful to select the number of clusters, or\nto spot outliers. There are several approaches for dimensionality reduction among which isometric\nmapping, Isomap, was selected (other embedding methods can be also applied).\nIsomap is preferred since it is capable of keeping the levels of similarity among the original\npatterns after being mapped to the lower dimensional space. Besides, it allows the projection of\nnew patterns onto the low-dimensional space.\n\n**Note 1:** You have to provide the number of dimensions to map on.\nAlthough any number of dimensions can be used to compute the embedding, only 2- and 3-dimensions\nplots are available (for obvious reasons).\n\n**Note 2:** 3D plots need Axes3D from mpl_toolkits.mplot3d\n\n"
      ],
      "metadata": {},
      "cell_type": "markdown"
    },
    {
      "source": [
        "n_dims = 3\nmap_emb = carat.clustering.manifold_learning(map_acce, method='isomap', n_components=n_dims)"
      ],
      "metadata": {
        "collapsed": false
      },
      "execution_count": null,
      "outputs": [],
      "cell_type": "code"
    },
    {
      "source": [
        "Finally we plot the low-dimensional embedding of the rhythmic patterns and the clusters obtained.\n\n"
      ],
      "metadata": {},
      "cell_type": "markdown"
    },
    {
      "source": [
        "fig1 = plt.figure(figsize=(10, 8))\nax1 = fig1.add_subplot(111, projection='3d')\ncarat.display.embedding_plot(map_emb, ax=ax1, clusters=cluster_labs, s=30)\nplt.tight_layout()\n\nfig2 = plt.figure(figsize=(10, 8))\nax2 = fig2.add_subplot(111, projection='3d')\ncarat.display.embedding_plot(map_emb, ax=ax2, s=30)\nplt.tight_layout()\n\nplt.show()"
      ],
      "metadata": {
        "collapsed": false
      },
      "execution_count": null,
      "outputs": [],
      "cell_type": "code"
    }
  ]
}